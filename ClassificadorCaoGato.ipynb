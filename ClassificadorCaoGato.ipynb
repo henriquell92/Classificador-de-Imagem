{
 "cells": [
  {
   "cell_type": "markdown",
   "metadata": {},
   "source": [
    "# ETAPA 1 - PREPARANDO NOSSOS DADOS."
   ]
  },
  {
   "cell_type": "code",
   "execution_count": 1,
   "metadata": {},
   "outputs": [],
   "source": [
    "import cv2\n",
    "from keras.utils import np_utils\n",
    "from sklearn.metrics import classification_report\n",
    "import matplotlib.pyplot as plt"
   ]
  },
  {
   "cell_type": "markdown",
   "metadata": {},
   "source": [
    "* Execução da nossa função para fazermos a manipulação das imagens para tornar nosso classificador mais robusto."
   ]
  },
  {
   "cell_type": "code",
   "execution_count": 77,
   "metadata": {},
   "outputs": [],
   "source": [
    "from keras.preprocessing.image import ImageDataGenerator\n",
    "\n",
    "image_gen_treino = ImageDataGenerator(rotation_range = 30,\n",
    "                              width_shift_range = 0.1,\n",
    "                              height_shift_range = 0.1,\n",
    "                              rescale = 1./225,\n",
    "                              shear_range = 0.2,\n",
    "                              zoom_range = 0.2,\n",
    "                              horizontal_flip = True,\n",
    "                              fill_mode ='nearest')\n",
    "\n",
    "image_gen_teste = ImageDataGenerator(rescale = 1/225)"
   ]
  },
  {
   "cell_type": "markdown",
   "metadata": {},
   "source": [
    "# Etapa 2 - Construindo Nosso Modelo Convolucional."
   ]
  },
  {
   "cell_type": "markdown",
   "metadata": {},
   "source": [
    "* Empilhamento das camadas para construir a arquitetura do nosso modelo CNN."
   ]
  },
  {
   "cell_type": "markdown",
   "metadata": {},
   "source": [
    "* A Função Flatten transforma uma matriz em vetor , realizando o chamado \"Achatamento\" das camadas."
   ]
  },
  {
   "cell_type": "code",
   "execution_count": 78,
   "metadata": {},
   "outputs": [],
   "source": [
    "from keras.models import Sequential\n",
    "from keras.layers import Dense, Conv2D, MaxPooling2D, Flatten, Dropout, Activation\n",
    "classificador = Sequential()\n",
    "classificador.add(Conv2D(filters=32, kernel_size=(3,3), input_shape=(64, 64, 3), activation='relu'))\n",
    "classificador.add(MaxPooling2D(pool_size=(2,2)))\n",
    "\n",
    "classificador.add(Conv2D(filters=64, kernel_size=(3,3), input_shape=(64, 64, 3), activation='relu'))\n",
    "classificador.add(MaxPooling2D(pool_size=(2,2)))\n",
    "\n",
    "classificador.add(Conv2D(filters=64, kernel_size=(3,3), input_shape=(64, 64, 3), activation='relu'))\n",
    "classificador.add(MaxPooling2D(pool_size=(2,2)))\n",
    "\n",
    "classificador.add(Flatten())\n",
    "\n",
    "classificador.add(Dense(units = 128, activation = 'relu'))\n",
    "classificador.add(Dropout(0.2))\n",
    "classificador.add(Dense(units = 128, activation = 'relu'))\n",
    "classificador.add(Dropout(0.2))\n",
    "classificador.add(Dense(1, activation = 'sigmoid'))"
   ]
  },
  {
   "cell_type": "code",
   "execution_count": 79,
   "metadata": {},
   "outputs": [],
   "source": [
    "classificador.compile(optimizer='adam', loss='binary_crossentropy', metrics=['accuracy'])"
   ]
  },
  {
   "cell_type": "markdown",
   "metadata": {},
   "source": [
    "# Etapa 3 - Treinando o Modelo."
   ]
  },
  {
   "cell_type": "markdown",
   "metadata": {},
   "source": [
    "* Carregamento das imagens para geração do treinamento."
   ]
  },
  {
   "cell_type": "code",
   "execution_count": 80,
   "metadata": {},
   "outputs": [
    {
     "name": "stdout",
     "output_type": "stream",
     "text": [
      "Found 4000 images belonging to 2 classes.\n",
      "Found 1000 images belonging to 2 classes.\n"
     ]
    }
   ],
   "source": [
    "batch_size = 32\n",
    "train_image_gen = image_gen_treino.flow_from_directory(r'D:\\ProjetoPython\\TesteRoit\\dataset\\training_set', \n",
    "                              target_size = (64, 64),\n",
    "                              batch_size = batch_size, \n",
    "                              class_mode='binary')\n",
    "test_image_gen = image_gen_teste.flow_from_directory(r'D:\\ProjetoPython\\TesteRoit\\dataset\\test_set', \n",
    "                              target_size = (64, 64),\n",
    "                              batch_size = batch_size, \n",
    "                              class_mode='binary')"
   ]
  },
  {
   "cell_type": "code",
   "execution_count": 83,
   "metadata": {},
   "outputs": [
    {
     "name": "stdout",
     "output_type": "stream",
     "text": [
      "Epoch 1/50\n",
      "125/125 [==============================] - 28s 221ms/step - loss: 0.4704 - accuracy: 0.7728 - val_loss: 0.4744 - val_accuracy: 0.7771\n",
      "Epoch 2/50\n",
      "125/125 [==============================] - 28s 221ms/step - loss: 0.4646 - accuracy: 0.7803 - val_loss: 0.4640 - val_accuracy: 0.7833\n",
      "Epoch 3/50\n",
      "125/125 [==============================] - 26s 208ms/step - loss: 0.4568 - accuracy: 0.7870 - val_loss: 0.4551 - val_accuracy: 0.7854\n",
      "Epoch 4/50\n",
      "125/125 [==============================] - 26s 207ms/step - loss: 0.4556 - accuracy: 0.7832 - val_loss: 0.4347 - val_accuracy: 0.8042\n",
      "Epoch 5/50\n",
      "125/125 [==============================] - 27s 215ms/step - loss: 0.4484 - accuracy: 0.7893 - val_loss: 0.4896 - val_accuracy: 0.7917\n",
      "Epoch 6/50\n",
      "125/125 [==============================] - 27s 218ms/step - loss: 0.4272 - accuracy: 0.8005 - val_loss: 0.4493 - val_accuracy: 0.8146\n",
      "Epoch 7/50\n",
      "125/125 [==============================] - 26s 210ms/step - loss: 0.4330 - accuracy: 0.8043 - val_loss: 0.4643 - val_accuracy: 0.7854\n",
      "Epoch 8/50\n",
      "125/125 [==============================] - 26s 205ms/step - loss: 0.4267 - accuracy: 0.8008 - val_loss: 0.4638 - val_accuracy: 0.7979\n",
      "Epoch 9/50\n",
      "125/125 [==============================] - 27s 219ms/step - loss: 0.4320 - accuracy: 0.8015 - val_loss: 0.5025 - val_accuracy: 0.7625\n",
      "Epoch 10/50\n",
      "125/125 [==============================] - 27s 212ms/step - loss: 0.4194 - accuracy: 0.8120 - val_loss: 0.4081 - val_accuracy: 0.8292\n",
      "Epoch 11/50\n",
      "125/125 [==============================] - 28s 221ms/step - loss: 0.4138 - accuracy: 0.8025 - val_loss: 0.4542 - val_accuracy: 0.8292\n",
      "Epoch 12/50\n",
      "125/125 [==============================] - 27s 219ms/step - loss: 0.4095 - accuracy: 0.8090 - val_loss: 0.3859 - val_accuracy: 0.8250\n",
      "Epoch 13/50\n",
      "125/125 [==============================] - 24s 189ms/step - loss: 0.3974 - accuracy: 0.8158 - val_loss: 0.4060 - val_accuracy: 0.8188\n",
      "Epoch 14/50\n",
      "125/125 [==============================] - 23s 185ms/step - loss: 0.3964 - accuracy: 0.8195 - val_loss: 0.3839 - val_accuracy: 0.8438\n",
      "Epoch 15/50\n",
      "125/125 [==============================] - 25s 202ms/step - loss: 0.4103 - accuracy: 0.8062 - val_loss: 0.4070 - val_accuracy: 0.8062\n",
      "Epoch 16/50\n",
      "125/125 [==============================] - 24s 195ms/step - loss: 0.3859 - accuracy: 0.8298 - val_loss: 0.4837 - val_accuracy: 0.7958\n",
      "Epoch 17/50\n",
      "125/125 [==============================] - 25s 199ms/step - loss: 0.3816 - accuracy: 0.8292 - val_loss: 0.4112 - val_accuracy: 0.8292\n",
      "Epoch 18/50\n",
      "125/125 [==============================] - 25s 199ms/step - loss: 0.3960 - accuracy: 0.8207 - val_loss: 0.4015 - val_accuracy: 0.8354\n",
      "Epoch 19/50\n",
      "125/125 [==============================] - 25s 202ms/step - loss: 0.3791 - accuracy: 0.8263 - val_loss: 0.3919 - val_accuracy: 0.8292\n",
      "Epoch 20/50\n",
      "125/125 [==============================] - 26s 210ms/step - loss: 0.3776 - accuracy: 0.8215 - val_loss: 0.3995 - val_accuracy: 0.8104\n",
      "Epoch 21/50\n",
      "125/125 [==============================] - 23s 187ms/step - loss: 0.3605 - accuracy: 0.8422 - val_loss: 0.4380 - val_accuracy: 0.8104\n",
      "Epoch 22/50\n",
      "125/125 [==============================] - 24s 188ms/step - loss: 0.3711 - accuracy: 0.8370 - val_loss: 0.4143 - val_accuracy: 0.8125\n",
      "Epoch 23/50\n",
      "125/125 [==============================] - 24s 190ms/step - loss: 0.3707 - accuracy: 0.8307 - val_loss: 0.4417 - val_accuracy: 0.8125\n",
      "Epoch 24/50\n",
      "125/125 [==============================] - 24s 190ms/step - loss: 0.3542 - accuracy: 0.8432 - val_loss: 0.4145 - val_accuracy: 0.8104\n",
      "Epoch 25/50\n",
      "125/125 [==============================] - 24s 191ms/step - loss: 0.3610 - accuracy: 0.8435 - val_loss: 0.3347 - val_accuracy: 0.8500\n",
      "Epoch 26/50\n",
      "125/125 [==============================] - 24s 190ms/step - loss: 0.3446 - accuracy: 0.8455 - val_loss: 0.3951 - val_accuracy: 0.8438\n",
      "Epoch 27/50\n",
      "125/125 [==============================] - 24s 191ms/step - loss: 0.3511 - accuracy: 0.8393 - val_loss: 0.3968 - val_accuracy: 0.8125\n",
      "Epoch 28/50\n",
      "125/125 [==============================] - 24s 189ms/step - loss: 0.3396 - accuracy: 0.8460 - val_loss: 0.3552 - val_accuracy: 0.8333\n",
      "Epoch 29/50\n",
      "125/125 [==============================] - 24s 190ms/step - loss: 0.3438 - accuracy: 0.8500 - val_loss: 0.4292 - val_accuracy: 0.8229\n",
      "Epoch 30/50\n",
      "125/125 [==============================] - 24s 189ms/step - loss: 0.3370 - accuracy: 0.8497 - val_loss: 0.3522 - val_accuracy: 0.8333\n",
      "Epoch 31/50\n",
      "125/125 [==============================] - 24s 189ms/step - loss: 0.3366 - accuracy: 0.8510 - val_loss: 0.3733 - val_accuracy: 0.8438\n",
      "Epoch 32/50\n",
      "125/125 [==============================] - 24s 194ms/step - loss: 0.3334 - accuracy: 0.8580 - val_loss: 0.3701 - val_accuracy: 0.8625\n",
      "Epoch 33/50\n",
      "125/125 [==============================] - 24s 190ms/step - loss: 0.3326 - accuracy: 0.8540 - val_loss: 0.3784 - val_accuracy: 0.8354\n",
      "Epoch 34/50\n",
      "125/125 [==============================] - 24s 192ms/step - loss: 0.3319 - accuracy: 0.8550 - val_loss: 0.4589 - val_accuracy: 0.8313\n",
      "Epoch 35/50\n",
      "125/125 [==============================] - 25s 199ms/step - loss: 0.3140 - accuracy: 0.8622 - val_loss: 0.4226 - val_accuracy: 0.8292\n",
      "Epoch 36/50\n",
      "125/125 [==============================] - 25s 202ms/step - loss: 0.3260 - accuracy: 0.8577 - val_loss: 0.4084 - val_accuracy: 0.8354\n",
      "Epoch 37/50\n",
      "125/125 [==============================] - 24s 191ms/step - loss: 0.3144 - accuracy: 0.8587 - val_loss: 0.4598 - val_accuracy: 0.8271\n",
      "Epoch 38/50\n",
      "125/125 [==============================] - 24s 190ms/step - loss: 0.3207 - accuracy: 0.8570 - val_loss: 0.3616 - val_accuracy: 0.8708\n",
      "Epoch 39/50\n",
      "125/125 [==============================] - 24s 191ms/step - loss: 0.3091 - accuracy: 0.8627 - val_loss: 0.4323 - val_accuracy: 0.8313\n",
      "Epoch 40/50\n",
      "125/125 [==============================] - 24s 190ms/step - loss: 0.3262 - accuracy: 0.8637 - val_loss: 0.3861 - val_accuracy: 0.8354\n",
      "Epoch 41/50\n",
      "125/125 [==============================] - 24s 190ms/step - loss: 0.3107 - accuracy: 0.8685 - val_loss: 0.3984 - val_accuracy: 0.8333\n",
      "Epoch 42/50\n",
      "125/125 [==============================] - 24s 192ms/step - loss: 0.3023 - accuracy: 0.8702 - val_loss: 0.3608 - val_accuracy: 0.8438\n",
      "Epoch 43/50\n",
      "125/125 [==============================] - 24s 189ms/step - loss: 0.3046 - accuracy: 0.8618 - val_loss: 0.4110 - val_accuracy: 0.8208\n",
      "Epoch 44/50\n",
      "125/125 [==============================] - 24s 190ms/step - loss: 0.3032 - accuracy: 0.8665 - val_loss: 0.4287 - val_accuracy: 0.8229\n",
      "Epoch 45/50\n",
      "125/125 [==============================] - 24s 191ms/step - loss: 0.3003 - accuracy: 0.8725 - val_loss: 0.3777 - val_accuracy: 0.8625\n",
      "Epoch 46/50\n",
      "125/125 [==============================] - 24s 191ms/step - loss: 0.2958 - accuracy: 0.8712 - val_loss: 0.3568 - val_accuracy: 0.8333\n",
      "Epoch 47/50\n",
      "125/125 [==============================] - 24s 191ms/step - loss: 0.3071 - accuracy: 0.8685 - val_loss: 0.4230 - val_accuracy: 0.8438\n",
      "Epoch 48/50\n",
      "125/125 [==============================] - 25s 198ms/step - loss: 0.3004 - accuracy: 0.8765 - val_loss: 0.3951 - val_accuracy: 0.8313\n",
      "Epoch 49/50\n",
      "125/125 [==============================] - 29s 229ms/step - loss: 0.2892 - accuracy: 0.8710 - val_loss: 0.4050 - val_accuracy: 0.8396\n",
      "Epoch 50/50\n",
      "125/125 [==============================] - 28s 227ms/step - loss: 0.2965 - accuracy: 0.8712 - val_loss: 0.4195 - val_accuracy: 0.8396\n"
     ]
    }
   ],
   "source": [
    "historico = classificador.fit_generator(train_image_gen, epochs=50, steps_per_epoch = 125 , validation_data=test_image_gen, validation_steps = 15)"
   ]
  },
  {
   "cell_type": "markdown",
   "metadata": {},
   "source": [
    "# Etapa 4 - Salvando o Modelo"
   ]
  },
  {
   "cell_type": "code",
   "execution_count": 85,
   "metadata": {},
   "outputs": [],
   "source": [
    "from tensorflow.keras.models import load_model\n",
    "classificador.save(r'D:\\ProjetoPython\\TesteRoit\\model.h5')"
   ]
  }
 ],
 "metadata": {
  "kernelspec": {
   "display_name": "Python 3",
   "language": "python",
   "name": "python3"
  },
  "language_info": {
   "codemirror_mode": {
    "name": "ipython",
    "version": 3
   },
   "file_extension": ".py",
   "mimetype": "text/x-python",
   "name": "python",
   "nbconvert_exporter": "python",
   "pygments_lexer": "ipython3",
   "version": "3.8.3"
  }
 },
 "nbformat": 4,
 "nbformat_minor": 4
}
